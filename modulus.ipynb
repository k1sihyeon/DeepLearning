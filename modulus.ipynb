{
  "nbformat": 4,
  "nbformat_minor": 0,
  "metadata": {
    "colab": {
      "provenance": [],
      "gpuType": "T4",
      "authorship_tag": "ABX9TyP1Q5wVfXEM8jTNmzaZp57t",
      "include_colab_link": true
    },
    "kernelspec": {
      "name": "python3",
      "display_name": "Python 3"
    },
    "language_info": {
      "name": "python"
    },
    "accelerator": "GPU"
  },
  "cells": [
    {
      "cell_type": "markdown",
      "metadata": {
        "id": "view-in-github",
        "colab_type": "text"
      },
      "source": [
        "<a href=\"https://colab.research.google.com/github/k1sihyeon/tensorflow/blob/main/modulus.ipynb\" target=\"_parent\"><img src=\"https://colab.research.google.com/assets/colab-badge.svg\" alt=\"Open In Colab\"/></a>"
      ]
    },
    {
      "cell_type": "code",
      "execution_count": null,
      "metadata": {
        "id": "NXppyHV-T4VN"
      },
      "outputs": [],
      "source": [
        "!pip install nvidia-modulus nvidia-modulus-sym\n",
        "!pip install nvidia-modulus[all]\n",
        "!pip install quadpy orthopy ndim gdown\n",
        "\n",
        "!git clone https://github.com/NVIDIA/modulus.git\n",
        "!git clone https://github.com/openhackathons-org/End-to-End-AI-for-Science.git"
      ]
    },
    {
      "cell_type": "code",
      "source": [
        "!ls -lrt\n",
        "!pwd"
      ],
      "metadata": {
        "colab": {
          "base_uri": "https://localhost:8080/"
        },
        "id": "nLk_Gmjzkvt-",
        "outputId": "a9f3955a-f0a1-43f3-87f6-ce568cce1de8"
      },
      "execution_count": 5,
      "outputs": [
        {
          "output_type": "stream",
          "name": "stdout",
          "text": [
            "total 12\n",
            "drwxr-xr-x 1 root root 4096 Jan 30 14:22 sample_data\n",
            "drwxr-xr-x 9 root root 4096 Feb  1 07:33 modulus\n",
            "drwxr-xr-x 4 root root 4096 Feb  1 07:33 End-to-End-AI-for-Science\n",
            "/content\n"
          ]
        }
      ]
    },
    {
      "cell_type": "markdown",
      "source": [
        "# 1D diffusion\n",
        "\n",
        " - 열 전도율이 다른 2개의 철사 사이의 열전도율 시뮬레이션"
      ],
      "metadata": {
        "id": "u4DpKeiFoe9k"
      }
    },
    {
      "cell_type": "code",
      "source": [
        "import torch\n",
        "import numpy as np\n",
        "from sympy import Symbol, Eq, Function, Number\n",
        "\n",
        "import modulus\n",
        "from modulus.sym.hydra import instantiate_arch , ModulusConfig\n",
        "from modulus.sym.solver import Solver\n",
        "from modulus.sym.domain import Domain\n",
        "from modulus.sym.geometry.primitives_1d import Line1D\n",
        "from modulus.sym.domain.constraint import (\n",
        "    PointwiseBoundaryConstraint,\n",
        "    PointwiseInteriorConstraint,\n",
        ")\n",
        "from modulus.sym.domain.validator import PointwiseValidator\n",
        "from modulus.sym.domain.monitor import PointwiseMonitor\n",
        "from modulus.sym.key import Key\n",
        "from modulus.sym.node import Node\n",
        "from modulus.sym.eq.pde import PDE"
      ],
      "metadata": {
        "id": "pVbLm1eglxXQ"
      },
      "execution_count": 6,
      "outputs": []
    },
    {
      "cell_type": "markdown",
      "source": [
        "## Step 1: Creating the geometry"
      ],
      "metadata": {
        "id": "geKOtVyYrEof"
      }
    },
    {
      "cell_type": "code",
      "source": [
        "L1 = Line1D(0, 1)\n",
        "L2 = Line1D(1, 2)\n",
        "\n",
        "D1 = 1e1\n",
        "D2 = 1e-1\n",
        "\n",
        "Tc = 100\n",
        "Ta = 0\n",
        "Tb = (Tc + (D1 / D2) * Ta) / (1 + (D1 / D2))\n",
        "\n",
        "print(Ta)\n",
        "print(Tb)\n",
        "print(Tc)"
      ],
      "metadata": {
        "colab": {
          "base_uri": "https://localhost:8080/"
        },
        "id": "hocWeoyirFOK",
        "outputId": "38398dc7-18c6-49d3-e1c8-dcb99bb7eada"
      },
      "execution_count": 7,
      "outputs": [
        {
          "output_type": "stream",
          "name": "stdout",
          "text": [
            "0\n",
            "0.9900990099009901\n",
            "100\n"
          ]
        }
      ]
    },
    {
      "cell_type": "markdown",
      "source": [
        "## Step 2: Defining the PDEs and creating the nodes"
      ],
      "metadata": {
        "id": "kvN7qGT8r5V-"
      }
    },
    {
      "cell_type": "code",
      "source": [
        "class Diffusion(PDE):\n",
        "    name = \"Diffusion\"\n",
        "\n",
        "    def __init__(self, T=\"T\", D=\"D\", Q=0, dim=3, time=True):\n",
        "        # set params\n",
        "        self.T = T\n",
        "        self.dim = dim\n",
        "        self.time = time\n",
        "\n",
        "        # coordinates\n",
        "        x, y, z = Symbol(\"x\"), Symbol(\"y\"), Symbol(\"z\")\n",
        "\n",
        "        # time\n",
        "        t = Symbol(\"t\")\n",
        "\n",
        "        # make input variables\n",
        "        input_variables = {\"x\": x, \"y\": y, \"z\": z, \"t\": t}\n",
        "        if self.dim == 1:\n",
        "            input_variables.pop(\"y\")\n",
        "            input_variables.pop(\"z\")\n",
        "        elif self.dim == 2:\n",
        "            input_variables.pop(\"z\")\n",
        "        if not self.time:\n",
        "            input_variables.pop(\"t\")\n",
        "\n",
        "        # Temperature\n",
        "        assert type(T) == str, \"T needs to be string\"\n",
        "        T = Function(T)(*input_variables)\n",
        "\n",
        "        # Diffusivity\n",
        "        if type(D) is str:\n",
        "            D = Function(D)(*input_variables)\n",
        "        elif type(D) in [float, int]:\n",
        "            D = Number(D)\n",
        "\n",
        "        # Source\n",
        "        if type(Q) is str:\n",
        "            Q = Function(Q)(*input_variables)\n",
        "        elif type(Q) in [float, int]:\n",
        "            Q = Number(Q)\n",
        "\n",
        "        # set equations\n",
        "        self.equations = {}\n",
        "        self.equations[\"diffusion_\" + self.T] = (\n",
        "            T.diff(t)\n",
        "            - (D * T.diff(x)).diff(x)\n",
        "            - (D * T.diff(y)).diff(y)\n",
        "            - (D * T.diff(z)).diff(z)\n",
        "            - Q\n",
        "        )\n"
      ],
      "metadata": {
        "id": "7mTcVrf2rxZN"
      },
      "execution_count": null,
      "outputs": []
    },
    {
      "cell_type": "code",
      "source": [
        "class DiffusionInterface(PDE):\n",
        "    name = \"DiffusionInterface\"\n",
        "\n",
        "    def __init__(self, T_1, T_2, D_1, D_2, dim=3, time=True):\n",
        "        # set params\n",
        "        self.T_1 = T_1\n",
        "        self.T_2 = T_2\n",
        "        self.dim = dim\n",
        "        self.time = time\n",
        "\n",
        "        # coordinates\n",
        "        x, y, z = Symbol(\"x\"), Symbol(\"y\"), Symbol(\"z\")\n",
        "        normal_x, normal_y, normal_z = (\n",
        "            Symbol(\"normal_x\"),\n",
        "            Symbol(\"normal_y\"),\n",
        "            Symbol(\"normal_z\"),\n",
        "        )\n",
        "\n",
        "        # time\n",
        "        t = Symbol(\"t\")\n",
        "\n",
        "        # make input variables\n",
        "        input_variables = {\"x\": x, \"y\": y, \"z\": z, \"t\": t}\n",
        "        if self.dim == 1:\n",
        "            input_variables.pop(\"y\")\n",
        "            input_variables.pop(\"z\")\n",
        "        elif self.dim == 2:\n",
        "            input_variables.pop(\"z\")\n",
        "        if not self.time:\n",
        "            input_variables.pop(\"t\")\n",
        "\n",
        "        # Diffusivity\n",
        "        if type(D_1) is str:\n",
        "            D_1 = Function(D_1)(*input_variables)\n",
        "        elif type(D_1) in [float, int]:\n",
        "            D_1 = Number(D_1)\n",
        "        if type(D_2) is str:\n",
        "            D_2 = Function(D_2)(*input_variables)\n",
        "        elif type(D_2) in [float, int]:\n",
        "            D_2 = Number(D_2)\n",
        "\n",
        "        # variables to match the boundary conditions (example Temperature)\n",
        "        T_1 = Function(T_1)(*input_variables)\n",
        "        T_2 = Function(T_2)(*input_variables)\n",
        "\n",
        "        # set equations\n",
        "        self.equations = {}\n",
        "        self.equations[\"diffusion_interface_dirichlet_\" + self.T_1 + \"_\" + self.T_2] = (\n",
        "            T_1 - T_2\n",
        "        )\n",
        "        flux_1 = D_1 * (\n",
        "            normal_x * T_1.diff(x) + normal_y * T_1.diff(y) + normal_z * T_1.diff(z)\n",
        "        )\n",
        "        flux_2 = D_2 * (\n",
        "            normal_x * T_2.diff(x) + normal_y * T_2.diff(y) + normal_z * T_2.diff(z)\n",
        "        )\n",
        "        self.equations[\"diffusion_interface_neumann_\" + self.T_1 + \"_\" + self.T_2] = (\n",
        "            flux_1 - flux_2\n",
        "        )"
      ],
      "metadata": {
        "id": "Sgh-a4xis2rL"
      },
      "execution_count": null,
      "outputs": []
    },
    {
      "cell_type": "markdown",
      "source": [
        "### Creating Neural Network nodes"
      ],
      "metadata": {
        "id": "7gRzs6tFs9tZ"
      }
    },
    {
      "cell_type": "code",
      "source": [
        "@modulus.sym.main(config_path=\"conf\", config_name=\"config\")\n",
        "def run(cfg: ModulusConfig) -> None:\n",
        "\n",
        "    # make list of nodes to unroll graph on\n",
        "    diff_u1 = Diffusion(T=\"u_1\", D=D1, dim=1, time=False)\n",
        "    diff_u2 = Diffusion(T=\"u_2\", D=D2, dim=1, time=False)\n",
        "    diff_in = DiffusionInterface(\"u_1\", \"u_2\", D1, D2, dim=1, time=False)\n",
        "\n",
        "    diff_net_u_1 = instantiate_arch(\n",
        "        input_keys=[Key(\"x\")],\n",
        "        output_keys=[Key(\"u_1\")],\n",
        "        cfg=cfg.arch.fully_connected,\n",
        "    )\n",
        "    diff_net_u_2 = instantiate_arch(\n",
        "        input_keys=[Key(\"x\")],\n",
        "        output_keys=[Key(\"u_2\")],\n",
        "        cfg=cfg.arch.fully_connected,\n",
        "    )\n",
        "\n",
        "    nodes = (\n",
        "        diff_u1.make_nodes()\n",
        "        + diff_u2.make_nodes()\n",
        "        + diff_in.make_nodes()\n",
        "        + [diff_net_u_1.make_node(name=\"u1_network\", jit=cfg.jit)]\n",
        "        + [diff_net_u_2.make_node(name=\"u2_network\", jit=cfg.jit)]\n",
        "    )"
      ],
      "metadata": {
        "id": "tidtWUFatB3l"
      },
      "execution_count": null,
      "outputs": []
    },
    {
      "cell_type": "markdown",
      "source": [
        "## Step 3: Setting up the domain and assigning the boundary and PDE constraints"
      ],
      "metadata": {
        "id": "hFQk2uj7tOjb"
      }
    },
    {
      "cell_type": "code",
      "source": [
        "    # sympy variables\n",
        "    x = Symbol(\"x\")\n",
        "\n",
        "    # right hand side (x = 2) Pt c\n",
        "    rhs = PointwiseBoundaryConstraint(\n",
        "        nodes=nodes,\n",
        "        geometry=L2,\n",
        "        outvar={\"u_2\": Tc},\n",
        "        batch_size=cfg.batch_size.rhs,\n",
        "        criteria=Eq(x, 2),\n",
        "    )\n",
        "    domain.add_constraint(rhs, \"right_hand_side\")\n",
        "\n",
        "    # left hand side (x = 0) Pt a\n",
        "    lhs = PointwiseBoundaryConstraint(\n",
        "        nodes=nodes,\n",
        "        geometry=L1,\n",
        "        outvar={\"u_1\": Ta},\n",
        "        batch_size=cfg.batch_size.lhs,\n",
        "        criteria=Eq(x, 0),\n",
        "    )\n",
        "    domain.add_constraint(lhs, \"left_hand_side\")\n",
        "\n",
        "    # interface 1-2\n",
        "    interface = PointwiseBoundaryConstraint(\n",
        "        nodes=nodes,\n",
        "        geometry=L1,\n",
        "        outvar={\n",
        "            \"diffusion_interface_dirichlet_u_1_u_2\": 0,\n",
        "            \"diffusion_interface_neumann_u_1_u_2\": 0,\n",
        "        },\n",
        "        batch_size=cfg.batch_size.interface,\n",
        "        criteria=Eq(x, 1),\n",
        "    )\n",
        "    domain.add_constraint(interface, \"interface\")\n",
        "\n",
        "    # interior 1\n",
        "    interior_u1 = PointwiseInteriorConstraint(\n",
        "        nodes=nodes,\n",
        "        geometry=L1,\n",
        "        outvar={\"diffusion_u_1\": 0},\n",
        "        bounds={x: (0, 1)},\n",
        "        batch_size=cfg.batch_size.interior_u1,\n",
        "    )\n",
        "    domain.add_constraint(interior_u1, \"interior_u1\")\n",
        "\n",
        "    # interior 2\n",
        "    interior_u2 = PointwiseInteriorConstraint(\n",
        "        nodes=nodes,\n",
        "        geometry=L2,\n",
        "        outvar={\"diffusion_u_2\": 0},\n",
        "        bounds={x: (1, 2)},\n",
        "        batch_size=cfg.batch_size.interior_u2,\n",
        "    )\n",
        "    domain.add_constraint(interior_u2, \"interior_u2\")"
      ],
      "metadata": {
        "id": "bdSMCzOitVpN"
      },
      "execution_count": null,
      "outputs": []
    },
    {
      "cell_type": "markdown",
      "source": [
        "## Step 4: Adding Validators, Inferencers and Monitors"
      ],
      "metadata": {
        "id": "S6f6I05YtXLv"
      }
    },
    {
      "cell_type": "code",
      "source": [
        "    # validation data\n",
        "    x = np.expand_dims(np.linspace(0, 1, 100), axis=-1)\n",
        "    u_1 = x * Tb + (1 - x) * Ta\n",
        "    invar_numpy = {\"x\": x}\n",
        "    outvar_numpy = {\"u_1\": u_1}\n",
        "    val = PointwiseValidator(nodes=nodes,invar=invar_numpy, true_outvar=outvar_numpy)\n",
        "    domain.add_validator(val, name=\"Val1\")\n",
        "\n",
        "    # make validation data line 2\n",
        "    x = np.expand_dims(np.linspace(1, 2, 100), axis=-1)\n",
        "    u_2 = (x - 1) * Tc + (2 - x) * Tb\n",
        "    invar_numpy = {\"x\": x}\n",
        "    outvar_numpy = {\"u_2\": u_2}\n",
        "    val = PointwiseValidator(nodes=nodes, invar=invar_numpy, true_outvar=outvar_numpy)\n",
        "    domain.add_validator(val, name=\"Val2\")\n",
        "\n",
        "    # make monitors\n",
        "    invar_numpy = {\"x\": [[1.0]]}\n",
        "    monitor = PointwiseMonitor(\n",
        "        invar_numpy,\n",
        "        output_names=[\"u_1__x\"],\n",
        "        metrics={\"flux_u1\": lambda var: torch.mean(var[\"u_1__x\"])},\n",
        "        nodes=nodes,\n",
        "        requires_grad=True,\n",
        "    )\n",
        "    domain.add_monitor(monitor)\n",
        "\n",
        "    monitor = PointwiseMonitor(\n",
        "        invar_numpy,\n",
        "        output_names=[\"u_2__x\"],\n",
        "        metrics={\"flux_u2\": lambda var: torch.mean(var[\"u_2__x\"])},\n",
        "        nodes=nodes,\n",
        "        requires_grad=True,\n",
        "    )\n",
        "    domain.add_monitor(monitor)\n"
      ],
      "metadata": {
        "id": "UCHsf-UvtZR-"
      },
      "execution_count": null,
      "outputs": []
    }
  ]
}