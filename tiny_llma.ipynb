{
  "nbformat": 4,
  "nbformat_minor": 0,
  "metadata": {
    "colab": {
      "provenance": [],
      "gpuType": "T4",
      "authorship_tag": "ABX9TyPeXivyr7RTEewTHmqXbWq5",
      "include_colab_link": true
    },
    "kernelspec": {
      "name": "python3",
      "display_name": "Python 3"
    },
    "language_info": {
      "name": "python"
    },
    "accelerator": "GPU"
  },
  "cells": [
    {
      "cell_type": "markdown",
      "metadata": {
        "id": "view-in-github",
        "colab_type": "text"
      },
      "source": [
        "<a href=\"https://colab.research.google.com/github/k1sihyeon/tensorflow/blob/main/tiny_llma.ipynb\" target=\"_parent\"><img src=\"https://colab.research.google.com/assets/colab-badge.svg\" alt=\"Open In Colab\"/></a>"
      ]
    },
    {
      "cell_type": "code",
      "execution_count": 23,
      "metadata": {
        "colab": {
          "base_uri": "https://localhost:8080/",
          "height": 479
        },
        "id": "WysjvUTjhiPQ",
        "outputId": "94672b32-7bd4-4624-fc1a-084f7dc18d36"
      },
      "outputs": [
        {
          "output_type": "error",
          "ename": "NotImplementedError",
          "evalue": "A UTF-8 locale is required. Got ANSI_X3.4-1968",
          "traceback": [
            "\u001b[0;31m---------------------------------------------------------------------------\u001b[0m",
            "\u001b[0;31mNotImplementedError\u001b[0m                       Traceback (most recent call last)",
            "\u001b[0;32m<timed exec>\u001b[0m in \u001b[0;36m<module>\u001b[0;34m\u001b[0m\n",
            "\u001b[0;32m/usr/local/lib/python3.10/dist-packages/google/colab/_shell.py\u001b[0m in \u001b[0;36msystem\u001b[0;34m(self, *args, **kwargs)\u001b[0m\n\u001b[1;32m     97\u001b[0m       \u001b[0mkwargs\u001b[0m\u001b[0;34m.\u001b[0m\u001b[0mupdate\u001b[0m\u001b[0;34m(\u001b[0m\u001b[0;34m{\u001b[0m\u001b[0;34m'also_return_output'\u001b[0m\u001b[0;34m:\u001b[0m \u001b[0;32mTrue\u001b[0m\u001b[0;34m}\u001b[0m\u001b[0;34m)\u001b[0m\u001b[0;34m\u001b[0m\u001b[0;34m\u001b[0m\u001b[0m\n\u001b[1;32m     98\u001b[0m \u001b[0;34m\u001b[0m\u001b[0m\n\u001b[0;32m---> 99\u001b[0;31m     \u001b[0moutput\u001b[0m \u001b[0;34m=\u001b[0m \u001b[0m_system_commands\u001b[0m\u001b[0;34m.\u001b[0m\u001b[0m_system_compat\u001b[0m\u001b[0;34m(\u001b[0m\u001b[0mself\u001b[0m\u001b[0;34m,\u001b[0m \u001b[0;34m*\u001b[0m\u001b[0margs\u001b[0m\u001b[0;34m,\u001b[0m \u001b[0;34m**\u001b[0m\u001b[0mkwargs\u001b[0m\u001b[0;34m)\u001b[0m  \u001b[0;31m# pylint:disable=protected-access\u001b[0m\u001b[0;34m\u001b[0m\u001b[0;34m\u001b[0m\u001b[0m\n\u001b[0m\u001b[1;32m    100\u001b[0m \u001b[0;34m\u001b[0m\u001b[0m\n\u001b[1;32m    101\u001b[0m     \u001b[0;32mif\u001b[0m \u001b[0mpip_warn\u001b[0m\u001b[0;34m:\u001b[0m\u001b[0;34m\u001b[0m\u001b[0;34m\u001b[0m\u001b[0m\n",
            "\u001b[0;32m/usr/local/lib/python3.10/dist-packages/google/colab/_system_commands.py\u001b[0m in \u001b[0;36m_system_compat\u001b[0;34m(shell, cmd, also_return_output)\u001b[0m\n\u001b[1;32m    452\u001b[0m   \u001b[0;31m# is expected to call this function, thus adding one level of nesting to the\u001b[0m\u001b[0;34m\u001b[0m\u001b[0;34m\u001b[0m\u001b[0m\n\u001b[1;32m    453\u001b[0m   \u001b[0;31m# stack.\u001b[0m\u001b[0;34m\u001b[0m\u001b[0;34m\u001b[0m\u001b[0m\n\u001b[0;32m--> 454\u001b[0;31m   result = _run_command(\n\u001b[0m\u001b[1;32m    455\u001b[0m       \u001b[0mshell\u001b[0m\u001b[0;34m.\u001b[0m\u001b[0mvar_expand\u001b[0m\u001b[0;34m(\u001b[0m\u001b[0mcmd\u001b[0m\u001b[0;34m,\u001b[0m \u001b[0mdepth\u001b[0m\u001b[0;34m=\u001b[0m\u001b[0;36m2\u001b[0m\u001b[0;34m)\u001b[0m\u001b[0;34m,\u001b[0m \u001b[0mclear_streamed_output\u001b[0m\u001b[0;34m=\u001b[0m\u001b[0;32mFalse\u001b[0m\u001b[0;34m\u001b[0m\u001b[0;34m\u001b[0m\u001b[0m\n\u001b[1;32m    456\u001b[0m   )\n",
            "\u001b[0;32m/usr/local/lib/python3.10/dist-packages/google/colab/_system_commands.py\u001b[0m in \u001b[0;36m_run_command\u001b[0;34m(cmd, clear_streamed_output)\u001b[0m\n\u001b[1;32m    166\u001b[0m     \u001b[0mlocale_encoding\u001b[0m \u001b[0;34m=\u001b[0m \u001b[0mlocale\u001b[0m\u001b[0;34m.\u001b[0m\u001b[0mgetpreferredencoding\u001b[0m\u001b[0;34m(\u001b[0m\u001b[0;34m)\u001b[0m\u001b[0;34m\u001b[0m\u001b[0;34m\u001b[0m\u001b[0m\n\u001b[1;32m    167\u001b[0m     \u001b[0;32mif\u001b[0m \u001b[0mlocale_encoding\u001b[0m \u001b[0;34m!=\u001b[0m \u001b[0m_ENCODING\u001b[0m\u001b[0;34m:\u001b[0m\u001b[0;34m\u001b[0m\u001b[0;34m\u001b[0m\u001b[0m\n\u001b[0;32m--> 168\u001b[0;31m       raise NotImplementedError(\n\u001b[0m\u001b[1;32m    169\u001b[0m           \u001b[0;34m'A UTF-8 locale is required. Got {}'\u001b[0m\u001b[0;34m.\u001b[0m\u001b[0mformat\u001b[0m\u001b[0;34m(\u001b[0m\u001b[0mlocale_encoding\u001b[0m\u001b[0;34m)\u001b[0m\u001b[0;34m\u001b[0m\u001b[0;34m\u001b[0m\u001b[0m\n\u001b[1;32m    170\u001b[0m       )\n",
            "\u001b[0;31mNotImplementedError\u001b[0m: A UTF-8 locale is required. Got ANSI_X3.4-1968"
          ]
        }
      ],
      "source": [
        "%%time\n",
        "!pip install transformers accelerate bitsandbytes\n",
        "!pip install accelerate"
      ]
    },
    {
      "cell_type": "code",
      "source": [
        "import torch\n",
        "from transformers import pipeline\n",
        "\n",
        "import pathlib\n",
        "import textwrap\n",
        "from IPython.display import display\n",
        "from IPython.display import Markdown\n",
        "\n",
        "def to_markdown(text):\n",
        "  text = text.replace('•', '  *')\n",
        "  return Markdown(textwrap.indent(text, '> ', predicate=lambda _: True))\n",
        "\n",
        "\n",
        "pipe = pipeline(\"text-generation\", model=\"TinyLlama/TinyLlama-1.1B-Chat-v1.0\", torch_dtype=torch.bfloat16, device_map=\"auto\")\n",
        "\n"
      ],
      "metadata": {
        "id": "u-BlEgIEjXuU"
      },
      "execution_count": 24,
      "outputs": []
    },
    {
      "cell_type": "code",
      "source": [
        "system_role_text = \"You are a friendly chatbot who always responds in the style of a professors\"\n",
        "user_input = \"How many helicopters can a human eat in one sitting\"\n",
        "\n",
        "user_inputs = [\n",
        "    {\"Question\": \"Can you recommend a pop-punk song?\",\n",
        "     \"Answer\": \"Sure! How about 'All the Small Things' by Blink-182?\"},\n",
        "    {\"Question\": \"What are some essential tips for beginner guitar players?\",\n",
        "     \"Answer\": \"Start with basic chords, practice regularly, and gradually introduce more complex techniques.\"},\n",
        "    {\"Question\": \"How does music therapy benefit mental health?\",\n",
        "     \"Answer\": \"Music therapy can reduce stress, improve mood, and enhance emotional well-being through creative expression.\"},\n",
        "    {\"Question\": \"Who are the influential figures in the history of blues music?\",\n",
        "     \"Answer\": \"Legends like Robert Johnson, B.B. King, and Muddy Waters have had a profound impact on the blues genre.\"},\n",
        "    {\"Question\": \"What's the significance of the Woodstock music festival in 1969?\",\n",
        "     \"Answer\": \"Woodstock is iconic for promoting peace, love, and music, representing the counterculture of the 1960s.\"},\n",
        "    {\"Question\": \"Can you recommend a classic rock album for someone new to the genre?\",\n",
        "     \"Answer\": \"Certainly! 'The Dark Side of the Moon' by Pink Floyd is a timeless classic.\"},\n",
        "    {\"Question\": \"How has streaming technology changed the music industry?\",\n",
        "     \"Answer\": \"Streaming has shifted the industry towards digital consumption, impacting sales, and changing the way artists earn revenue.\"},\n",
        "    {\"Question\": \"What role does a music producer play in the recording process?\",\n",
        "     \"Answer\": \"Producers oversee the creative and technical aspects, helping artists achieve their desired sound in the studio.\"},\n",
        "    {\"Question\": \"Can you explain the difference between a symphony and a concerto in classical music?\",\n",
        "     \"Answer\": \"In a symphony, an orchestra plays a structured piece, while a concerto features a soloist accompanied by an orchestra.\"},\n",
        "    {\"Question\": \"What are some iconic music venues around the world known for their acoustics and atmosphere?\",\n",
        "     \"Answer\": \"Venues like the Royal Albert Hall in London and the Sydney Opera House are renowned for their exceptional settings and sound quality.\"}\n",
        "]\n",
        "\n",
        "messages = [\n",
        "    { \"role\": \"system\", \"content\": f\"{system_role_text}\", },\n",
        "    { \"role\": \"user\",   \"content\": f\"{user_input}\"},\n",
        "]\n",
        "\n",
        "prompt = pipe.tokenizer.apply_chat_template(messages, tokenize=False, add_generation_prompt=True)\n",
        "outputs = pipe(prompt, max_new_tokens=256, do_sample=True, temperature=1.0, top_k=50, top_p=0.95)\n",
        "\n",
        "res = outputs[0][\"generated_text\"].replace(prompt, \"\")\n",
        "#to_markdown(str(outputs[0][\"generated_text\"].replace(prompt, \"\")))\n",
        "print(res)\n",
        "\n"
      ],
      "metadata": {
        "colab": {
          "base_uri": "https://localhost:8080/"
        },
        "id": "O6-QW0iX9SA1",
        "outputId": "b1f60b93-e475-408a-9c6d-3ed7290d91e4"
      },
      "execution_count": 25,
      "outputs": [
        {
          "output_type": "stream",
          "name": "stdout",
          "text": [
            "A human can typically eat four to five helicopters in one sitting, depending on their size, appetite, and the meal itself. Larger helicopters may require more preparation and cooking time. However, eating too many helicopters can lead to indigestion, bloating, or gastric distress, so it's best to stick to a moderate number.\n"
          ]
        }
      ]
    },
    {
      "cell_type": "code",
      "source": [
        "for idx, user_input in enumerate(user_inputs):\n",
        "  print(f\"Question {idx}: {user_input['Question']}\")\n",
        "\n",
        "  messages = [\n",
        "      { \"role\": \"system\", \"content\": f\"{system_role_text}\", },\n",
        "      { \"role\": \"user\",   \"content\": f\"{user_input['Question']}\"},\n",
        "  ]\n",
        "\n",
        "  prompt = pipe.tokenizer.apply_chat_template(messages, tokenize=False, add_generation_prompt=True)\n",
        "  outputs = pipe(prompt, max_new_tokens=512, do_sample=True, temperature=1.0, top_k=50, top_p=0.95)\n",
        "\n",
        "  res = outputs[0][\"generated_text\"].replace(prompt, \"\")\n",
        "  print(f\"answer: {res}\")\n",
        "  print(\"=\" * 100)\n",
        "\n"
      ],
      "metadata": {
        "id": "iUILpNcGnagU",
        "colab": {
          "base_uri": "https://localhost:8080/"
        },
        "outputId": "e44be62f-efc4-40a5-c012-b6b38f7a2927"
      },
      "execution_count": 26,
      "outputs": [
        {
          "output_type": "stream",
          "name": "stdout",
          "text": [
            "Question 0: Can you recommend a pop-punk song?\n",
            "answer: Sure, here's a pop-punk song that is perfect for your project:\n",
            "\n",
            "- \"New Kid in Town\" by Travis Meier Band\n",
            "\n",
            "This song is known for its catchy chorus and upbeat tempo. The lyrics touch on themes of finding one's place in the world and seeking out new experiences. It's a great fit for your project and will add a sense of energy and excitement to your presentation. Enjoy!\n",
            "====================================================================================================\n",
            "Question 1: 케이팝 노래 추천해줘\n",
            "answer: Certainly, here are some popular k-pop songs that you might enjoy:\n",
            "\n",
            "1. \"Sugar Rush!\" by BTS (Burn Up)\n",
            "2. \"Idol Kpop\" by Super Junior (Dial)\n",
            "3. \"Girls Like We\" by EXO (Lemon)\n",
            "4. \"Shake it Up!\" by Red Velvet (Electro Pop)\n",
            "5. \"Fade Away\" by NCT 127 (Cha-cha)\n",
            "6. \"Epic\" by Kara (High Energy)\n",
            "7. \"Dynamite\" by BTS (Hip Hop)\n",
            "8. \"Ripple\" by CNBLUE (Lo-Fi)\n",
            "9. \"The Winner\" by ITZY (Pop Rock)\n",
            "10. \"My Voice\" by Stray Kids (Techno)\n",
            "\n",
            "I hope you find these recommendations useful! Feel free to suggest any other K-pop bands or songs in the comments.\n",
            "====================================================================================================\n",
            "Question 2: Who are the emerging artists in the indie music scene that I should check out?\n",
            "answer: Here are some emerging artists in the indie music scene you should check out:\n",
            "\n",
            "1. GRAMMY-nominated artist Phoebe Bridgers\n",
            "2. Singer-songwriter Lizzy Rose\n",
            "3. Singer-songwriter Aoife Nessa Frances\n",
            "4. Indie rock band Cousin Blue\n",
            "5. Emotional indie rock duo The Crabs\n",
            "6. Electro-pop duo TWALKER\n",
            "7. Brooklyn-based indie rock band Bri Hennessy and Ben Shemeny\n",
            "8. New-wave-influenced indie rock band Echoes and Dust\n",
            "9. Indie rock band Chest Bones\n",
            "10. Alternative indie band The Glorias\n",
            "\n",
            "Make sure to check out their social media pages and listen to their music to get a better idea of what kind of music they create.\n",
            "====================================================================================================\n",
            "Question 3: Can you suggest some classic jazz tracks for someone new to the genre?\n",
            "answer: Certainly! Here are some classic jazz tracks you may enjoy:\n",
            "\n",
            "1. \"Mood Indigo\" by Duke Ellington\n",
            "2. \"Chinese Piano Suite\" by John Coltrane\n",
            "3. \"Melody in B Minor\" by Thelonious Monk\n",
            "4. \"Blue in Green\" by Louis Armstrong\n",
            "5. \"Take the 'A' Train\" by Duke Ellington\n",
            "6. \"I Got Rhythm\" by George Gershwin\n",
            "7. \"Autumn Leaves\" by Sergei Prokofiev\n",
            "8. \"My Favorite Things\" by John Coltrane\n",
            "9. \"Straight, No Chaser\" by Billie Holiday\n",
            "10. \"Prelude in C Major\" by John Coltrane\n",
            "11. \"Ascension\" by John Coltrane\n",
            "12. \"In a Sentimental Mood\" by Duke Ellington\n",
            "13. \"Take the A Train\" by Billie Holiday\n",
            "14. \"Honeysuckle Rose\" by Louis Armstrong\n",
            "15. \"Mood Indigo\" by Duke Ellington\n",
            "\n",
            "I hope you find these tracks enjoyable and enjoyable to listen to!\n",
            "====================================================================================================\n",
            "Question 4: What are the key elements that define a great movie soundtrack?\n",
            "answer: Here are some elements that define a great movie soundtrack:\n",
            "\n",
            "1. Originality: The music must be truly original and stand out from the existing soundtracks. It should be memorable, catchy, and not too similar to other successful movie soundtracks.\n",
            "\n",
            "2. Timing: The music should be perfectly selected and placed in the right places within the film. The timing of each song should be relevant to the emotions of the scene it accompanies.\n",
            "\n",
            "3. Variety: The music should be varied and not rely too much on just one or two types of music. The soundtrack should have some rock songs, some instrumental tracks, and some slow or upbeat music to fit each mood and scene.\n",
            "\n",
            "4. Emotional Relevance: The songs should be emotionally relevant to the story, scenes, and characters. The music should evoke different emotions, such as joy, sadness, anger, confusion, and excitement, which aligns with the mood and setting of the scene.\n",
            "\n",
            "5. Professionalism: The music must be composed, recorded, and produced by professional studios and musicians. The music should have a high quality sound, instrumentation, and a professional mix.\n",
            "\n",
            "6. Collaboration: The music and sound design team must collaborate seamlessly to create a cohesive and harmonious soundtrack that aligns with the film's overall vision.\n",
            "====================================================================================================\n",
            "Question 5: Who are the pioneers of electronic music, and how have they influenced the genre?\n",
            "answer: The pioneers of electronic music have been instrumental in transforming and revolutionizing the genre since the inception of synthesizers and electronic music. Here are some of the pioneers of electronic music:\n",
            "\n",
            "1. Kraftwerk: This German electro-rock group is considered to be the pioneers of electronic music, influencing the sound of synthesizers, drum machines, and digital distortion. Their music features catchy melodies, complex arrangements, and innovative use of sound effects.\n",
            "\n",
            "2. Pink Floyd: British rock band Pink Floyd is famous for its atmospheric, melancholic electronic music. They are considered to be pioneers of atmospheric electronic rock, using ambient soundscapes, synthesizers, and effects to create immersive and immaculate soundscapes.\n",
            "\n",
            "3. Robert Moog: Robert Moog is widely considered to be the father of modern synthesizers. His innovations in sound synthesis led to the emergence of electronic music in the 1960s. He is credited with inventing the first electronic synthesizer, the Moog synthesizer.\n",
            "\n",
            "4. Michael Jackson: Michael Jackson's disco-influenced music is often associated with the \"soulful sound\" pioneered by producers such as David Foster and Quincy Jones. This sound featured soulful vocals, funky drums, and electronic dance beats.\n",
            "\n",
            "5. Madonna: Madonna is considered to be one of the pioneers of pop music, as she helped break the barriers of what was considered \"easy listening\" and started incorporating electronica and other electronic elements into her music.\n",
            "\n",
            "The pioneers of electronic music have influenced the genre significantly, and their contributions have helped pave the way for the innovation and creativity in electronic music today.\n",
            "====================================================================================================\n",
            "Question 6: What's the significance of concept albums in the history of rock music?\n",
            "answer: Concept albums are a genre of rock music that emerged in the late 1960s and early 1970s. These albums were created by bands as a way to explore their themes and ideologies through the artistic expression of their music. Concept albums allowed bands to tell a narrative or story through a series of songs and became an increasingly important part of the development of rock music as a genre.\n",
            "\n",
            "Many classic concept albums from the era include ideas such as social commentary, political consciousness, or personal experiences, making them significant in the evolution of rock music. The Beatles' \"Sgt. Pepper's Lonely Hearts Club Band\" is often regarded as one of the most innovative and influential concept albums, and it continues to influence musicians and artists to this day. Other notable concept albums include Pink Floyd's \"The Dark Side of the Moon,\" Bruce Springsteen's \"Glass House,\" and Radiohead's \"OK Computer.\"\n",
            "\n",
            "In modern times, concept albums are still produced by bands, but they often incorporate elements of other genres like pop, jazz, or even hip-hop. However, concept albums remain one of the most important and influential forms of rock music.\n",
            "====================================================================================================\n",
            "Question 7: Can you recommend some international music festivals known for showcasing diverse genres and artists?\n",
            "answer: Certainly! Here are some international music festivals known for showcasing diverse genres and artists:\n",
            "\n",
            "1. Coachella Valley Music and Arts Festival - USA\n",
            "2. EDC Las Vegas - USA\n",
            "3. Tomorrowland - Belgium\n",
            "4. Sziget Festival - Hungary\n",
            "5. Tomorrowland Beyond The State ofplay - Belgium\n",
            "6. Glastonbury Festival - UK\n",
            "7. Laneway Festival - Australia\n",
            "8. Way Out West - Sweden\n",
            "9. Big Day Out - Australia\n",
            "10. Primavera Sound - Spain\n",
            "\n",
            "These festivals showcase a range of genres and styles, from techno and drum & bass to hip-hop, rock, and more. The festival's lineups and guest artists provide a unique experience for music lovers around the world.\n",
            "====================================================================================================\n",
            "Question 8: How has technology impacted the production and consumption of music in recent years?\n",
            "answer: Technology has significantly impacted the production and consumption of music in recent years. Here are some ways in which it has affected the industry:\n",
            "\n",
            "1. Music Production: Technology has made it possible to record and produce music at home, without the need for expensive studios or record labels. Music production software, such as FL Studio and Logic Pro, has made it easier for beginners and professionals alike to create electronic and acoustic music. Technology has also enabled musicians to experiment with sound and experimentation by allowing them to create sounds digitally, even without the need for an instrument or microphone.\n",
            "\n",
            "2. Music distribution: Technology has allowed for the quick distribution of music worldwide. With platforms like Spotify, Apple Music, and YouTube, fans can access and listen to millions of songs. Technology has also made it easier for independent artists to distribute their music, and for record labels to discover and promote emerging artists, all from the comfort of their homes.\n",
            "\n",
            "3. Music consumption: Technology has made it easier for fans to listen to music on demand. Fans can now access thousands of songs at their fingertips, regardless of the artist or genre. Platforms like Spotify, Apple Music, and YouTube now host millions of songs, ensuring that fans can find their favorite music at any time. Technology has also enabled fans to attend concerts virtually or by live streaming.\n",
            "\n",
            "4. Music Marketing: Technology has changed the way music marketing is done. Marketing aims to increase awareness of a music artist, song, or album to the public. Platforms like YouTube, SoundCloud, and Facebook have helped to promote bands and artists through user-generated content and viral marketing. Technology has also enabled musicians to create and distribute their music, and track the performance of their music in real-time.\n",
            "\n",
            "Overall, technology has transformed the music industry by enabling growth, innovation, and accessibility for fans and artists alike.\n",
            "====================================================================================================\n",
            "Question 9: What are the cultural influences on hip-hop music, and how has the genre evolved over time?\n",
            "answer: Cultural influences on hip-hop music have played a significant role in shaping its evolution over time. Here are some of the key cultural influences that have influenced hip-hop music over the years:\n",
            "\n",
            "1. Rap: The rapping style in hip-hop originated from African American slaves who had to find ways to communicate their emotions and experiences through rhythmic patterns. Rap music has been influenced by various cultural and musical traditions from African American culture, European immigrants, and Puerto Rican cultures.\n",
            "\n",
            "2. Hip hop dance: Hip hop dance is a dance style that originated in the Bronx neighborhood of New York City in the 1970s. Hip hop dance incorporates a variety of movements, rhythms, and fashion styles.\n",
            "\n",
            "3. Reggae: Reggae is a popular genre of Jamaican music that originated in the 1960s. Reggae music has influenced hip-hop's rhythm and dance styles, as it incorporates elements of Jamaican rhythm and blues.\n",
            "\n",
            "4. Hip-hop fashion: Hip-hop fashion is a significant component of hip-hop culture, with streetwear brands like Adidas, Nike, and Reebok having a significant presence in the industry.\n",
            "\n",
            "Over time, hip-hop music has evolved in terms of its lyrics, production, and visual aesthetics. Hip-hop music has become more political, socially conscious, and has challenged traditional music industry norms. As hip-hop has crossed national and ethnic boundaries, it has become more diverse and has influenced various genres of music, such as R&B, pop, and dance music.\n",
            "====================================================================================================\n"
          ]
        }
      ]
    }
  ]
}